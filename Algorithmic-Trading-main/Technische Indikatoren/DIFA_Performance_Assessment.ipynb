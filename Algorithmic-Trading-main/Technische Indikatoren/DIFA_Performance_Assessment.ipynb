{
 "cells": [
  {
   "metadata": {},
   "cell_type": "markdown",
   "source": [
    "# Vorbereitungen\n",
    "In den Vorbereitungen werden die nötigen Libraries importiert sowie die Funktionen und Strategien definiert.\n",
    "## Libraries & Funktionen\n",
    "### Import der Libraries"
   ],
   "id": "8f6e443bda9f98d8"
  },
  {
   "metadata": {},
   "cell_type": "code",
   "source": [
    "import yfinance as yf\n",
    "import backtrader as bt\n",
    "from datetime import datetime\n",
    "import pandas as pd\n",
    "import matplotlib.pyplot as plt"
   ],
   "id": "3e267b6a8a1550b7",
   "outputs": [],
   "execution_count": null
  },
  {
   "metadata": {},
   "cell_type": "markdown",
   "source": [
    "### Abruf und Vorbereitung der ETF-Daten\n",
    "Die Funktion **fetch_etf_data** lädt historische Marktdaten eines ETFs mit yfinance basierend auf einem Ticker-Symbol sowie einem Start- und Enddatum herunter. Die Daten werden auf die für Backtrader erforderlichen Spalten reduziert, deren Namen angepasst und mit einer zusätzlichen Spalte openinterest ergänzt. Falls keine Daten gefunden werden, wird ein Fehler ausgelöst.\n"
   ],
   "id": "75b17328f3f855f"
  },
  {
   "metadata": {},
   "cell_type": "code",
   "source": [
    "def fetch_etf_data(ticker, start_date, end_date):\n",
    "    data = yf.download(ticker, start=start_date, end=end_date)\n",
    "    if data.empty:\n",
    "        raise ValueError(f\"Keine Daten für {ticker} im angegebenen Zeitraum gefunden.\")\n",
    "    # Backtrader benötigt spezifische Spaltennamen\n",
    "    data = data[['Open', 'High', 'Low', 'Close', 'Volume']].copy()\n",
    "    data.columns = ['open', 'high', 'low', 'close', 'volume']\n",
    "    data['openinterest'] = 0  # Backtrader benötigt diese Spalte\n",
    "    return data"
   ],
   "id": "a6633f8222cd9bcf",
   "outputs": [],
   "execution_count": null
  },
  {
   "metadata": {},
   "cell_type": "markdown",
   "source": [
    "### Backtesting\n",
    "Die Funktion **run_backtest** führt einen Backtest mit der Backtesting-Bibliothek Backtrader durch. Sie bereitet die Marktdaten auf, fügt sie zusammen mit der angegebenen Handelsstrategie in die Backtest-Engine ein und setzt das Startkapital sowie die Handelsgebühren. Anschliessend wird der Backtest ausgeführt, das Start- und Endkapital ausgegeben, und optional die Ergebnisse visualisiert."
   ],
   "id": "37cd88f7b6641e6b"
  },
  {
   "metadata": {},
   "cell_type": "code",
   "source": [
    "def backtest_and_collect(data, strategies, seed_capital, commission):\n",
    "    earnings = []\n",
    "    for strategy, strategy_name in strategies:\n",
    "        data_feed = bt.feeds.PandasData(dataname=data)\n",
    "        cerebro = bt.Cerebro()\n",
    "        cerebro.adddata(data_feed)\n",
    "        cerebro.addstrategy(strategy)\n",
    "        cerebro.broker.setcash(seed_capital)\n",
    "        cerebro.broker.setcommission(commission)\n",
    "        strategies_run = cerebro.run()\n",
    "        final_value = cerebro.broker.getvalue()\n",
    "\n",
    "        # Signale sammeln\n",
    "        strat_instance = strategies_run[0]\n",
    "        buy_signals = getattr(strat_instance, \"buy_signals\", 0)\n",
    "        sell_signals = getattr(strat_instance, \"sell_signals\", 0)\n",
    "\n",
    "        earnings.append({\n",
    "            \"Strategy\": strategy_name,\n",
    "            \"Earnings\": final_value,\n",
    "            \"Seed Capital\": seed_capital,\n",
    "            \"Profit\": final_value - seed_capital,\n",
    "            \"Profit_Percent\": (final_value / seed_capital * 100) - 100,\n",
    "            \"Buy Signals\": buy_signals,\n",
    "            \"Sell Signals\": sell_signals,\n",
    "            \"Cerebro\": cerebro,\n",
    "        })\n",
    "    return earnings"
   ],
   "id": "99a1d78033792629",
   "outputs": [],
   "execution_count": null
  },
  {
   "metadata": {},
   "cell_type": "markdown",
   "source": [
    "### Tabelle mit Matplotlib darstellen\n",
    "Die Funktion display_table_with_matplotlib visualisiert einen Pandas-DataFrame als Tabelle mit Matplotlib. Sie erstellt eine dynamische Tabelle mit angepasster Schriftgrösse und Spaltenbreite, wobei die Zeilen und der Header farblich hervorgehoben werden, um die Lesbarkeit zu verbessern. Schliesslich wird die Tabelle mit plt.show() gerendert und angezeigt."
   ],
   "id": "c0e4d399de5c1a44"
  },
  {
   "metadata": {},
   "cell_type": "code",
   "source": [
    "def display_table_with_matplotlib(df):\n",
    "    fig, ax = plt.subplots(figsize=(10, len(df) * 0.5))  # Dynamische Höhe basierend auf Zeilenanzahl\n",
    "    ax.axis('tight')\n",
    "    ax.axis('off')\n",
    "\n",
    "    # Tabelle hinzufügen\n",
    "    table = ax.table(cellText=df.values, colLabels=df.columns, loc='center', cellLoc='center')\n",
    "\n",
    "    # Stil anpassen\n",
    "    table.auto_set_font_size(False)\n",
    "    table.set_fontsize(10)\n",
    "    table.auto_set_column_width(col=list(range(len(df.columns))))\n",
    "\n",
    "    # Optional: Farben anpassen\n",
    "    for key, cell in table.get_celld().items():\n",
    "        if key[0] == 0:  # Header-Zeilen\n",
    "            cell.set_text_props(weight='bold', color='white')\n",
    "            cell.set_facecolor('#4CAF50')  # Grüner Header\n",
    "        elif key[0] % 2 == 0:  # Alternierende Zeilen\n",
    "            cell.set_facecolor('#f9f9f9')  # Hellgrau\n",
    "        else:\n",
    "            cell.set_facecolor('#ffffff')  # Weiss\n",
    "\n",
    "    plt.show()"
   ],
   "id": "ba7279c3c06ba3e0",
   "outputs": [],
   "execution_count": null
  },
  {
   "metadata": {},
   "cell_type": "markdown",
   "source": [
    "## Definition der einzelnen Strategien\n",
    "Die einzelnen Strategien werden als Klassen definiert, um sie später der Backtrader Funktion übergeben zu können. Die Strategien geben die Berechnung der Buy und Sell-Signale vor und geben so den Erfolg oder Misserfolg auf der jeweiligen ETFs vor.\n",
    "### Standard Moving Average"
   ],
   "id": "8e16feeb50c9332e"
  },
  {
   "metadata": {},
   "cell_type": "code",
   "source": [
    "class SmaStrategy(bt.Strategy):\n",
    "    params = ((\"short_sma\", 10), (\"long_sma\", 50))\n",
    "\n",
    "    def __init__(self):\n",
    "        self.short_sma = bt.indicators.SimpleMovingAverage(self.data.close, period=self.params.short_sma)\n",
    "        self.long_sma = bt.indicators.SimpleMovingAverage(self.data.close, period=self.params.long_sma)\n",
    "        self.buy_signals = 0\n",
    "        self.sell_signals = 0\n",
    "\n",
    "    def next(self):\n",
    "        if self.short_sma > self.long_sma and not self.position:\n",
    "            self.buy()\n",
    "            self.buy_signals += 1\n",
    "        elif self.short_sma < self.long_sma and self.position:\n",
    "            self.sell()\n",
    "            self.sell_signals += 1"
   ],
   "id": "d25b047367f3f18a",
   "outputs": [],
   "execution_count": null
  },
  {
   "metadata": {},
   "cell_type": "markdown",
   "source": "### Linear Weighted Moving Average",
   "id": "548b3c7b9a25f2cf"
  },
  {
   "metadata": {},
   "cell_type": "code",
   "source": [
    "class LwmaStrategy(bt.Strategy):\n",
    "    params = ((\"short_lwma\", 10), (\"long_lwma\", 50))\n",
    "\n",
    "    def __init__(self):\n",
    "        self.short_lwma = bt.indicators.WeightedMovingAverage(self.data.close, period=self.params.short_lwma)\n",
    "        self.long_lwma = bt.indicators.WeightedMovingAverage(self.data.close, period=self.params.long_lwma)\n",
    "        self.buy_signals = 0\n",
    "        self.sell_signals = 0\n",
    "\n",
    "    def next(self):\n",
    "        if self.short_lwma > self.long_lwma and not self.position:\n",
    "            self.buy()\n",
    "            self.buy_signals += 1\n",
    "        elif self.short_lwma < self.long_lwma and self.position:\n",
    "            self.sell()\n",
    "            self.sell_signals += 1"
   ],
   "id": "3094a3ece98a3ac0",
   "outputs": [],
   "execution_count": null
  },
  {
   "metadata": {},
   "cell_type": "markdown",
   "source": "### Exponential Weighted Moving Average",
   "id": "9fd68ce2a75fde91"
  },
  {
   "metadata": {},
   "cell_type": "code",
   "source": [
    "class EwmaStrategy(bt.Strategy):\n",
    "    params = ((\"short_ewma\", 10), (\"long_ewma\", 50))\n",
    "\n",
    "    def __init__(self):\n",
    "        self.short_ewma = bt.indicators.ExponentialMovingAverage(self.data.close, period=self.params.short_ewma)\n",
    "        self.long_ewma = bt.indicators.ExponentialMovingAverage(self.data.close, period=self.params.long_ewma)\n",
    "        self.buy_signals = 0\n",
    "        self.sell_signals = 0\n",
    "\n",
    "    def next(self):\n",
    "        if self.short_ewma > self.long_ewma and not self.position:\n",
    "            self.buy()\n",
    "            self.buy_signals += 1\n",
    "        elif self.short_ewma < self.long_ewma and self.position:\n",
    "            self.sell()\n",
    "            self.sell_signals += 1"
   ],
   "id": "bb39d9d7c70ef3e3",
   "outputs": [],
   "execution_count": null
  },
  {
   "metadata": {},
   "cell_type": "markdown",
   "source": "### Moving Average Crossover Divergence",
   "id": "a49e8a6bbf6371ef"
  },
  {
   "metadata": {},
   "cell_type": "code",
   "source": [
    "class MacdStrategy(bt.Strategy):\n",
    "    params = ((\"fast_period\", 12), (\"slow_period\", 26), (\"signal_period\", 9))\n",
    "\n",
    "    def __init__(self):\n",
    "        self.macd = bt.indicators.MACD(self.data.close, period_me1=self.params.fast_period, period_me2=self.params.slow_period, period_signal=self.params.signal_period)\n",
    "        self.buy_signals = 0\n",
    "        self.sell_signals = 0\n",
    "\n",
    "    def next(self):\n",
    "        if self.macd.macd > self.macd.signal and not self.position:\n",
    "            self.buy()\n",
    "            self.buy_signals += 1\n",
    "        elif self.macd.macd < self.macd.signal and self.position:\n",
    "            self.sell()\n",
    "            self.sell_signals += 1"
   ],
   "id": "849a1f9e10521ff2",
   "outputs": [],
   "execution_count": null
  },
  {
   "metadata": {},
   "cell_type": "markdown",
   "source": "### Relative Strength Index (RSI)",
   "id": "4ea2a7c4a560ec8f"
  },
  {
   "metadata": {},
   "cell_type": "code",
   "source": [
    "class RsiStrategy(bt.Strategy):\n",
    "    params = ((\"period\", 14), (\"overbought\", 70), (\"oversold\", 30))\n",
    "\n",
    "    def __init__(self):\n",
    "        self.rsi = bt.indicators.RSI(self.data.close, period=self.params.period)\n",
    "        self.buy_signals = 0\n",
    "        self.sell_signals = 0\n",
    "\n",
    "    def next(self):\n",
    "        if self.rsi < self.params.oversold and not self.position:\n",
    "            self.buy()\n",
    "            self.buy_signals += 1\n",
    "        elif self.rsi > self.params.overbought and self.position:\n",
    "            self.sell()\n",
    "            self.sell_signals += 1"
   ],
   "id": "64f3edd2e9e284a7",
   "outputs": [],
   "execution_count": null
  },
  {
   "metadata": {},
   "cell_type": "markdown",
   "source": "### Bollinger Bands",
   "id": "b0e5081331755bc6"
  },
  {
   "metadata": {},
   "cell_type": "code",
   "source": [
    "class BollingerBandsStrategy(bt.Strategy):\n",
    "    params = ((\"period\", 20), (\"devfactor\", 2.0))\n",
    "\n",
    "    def __init__(self):\n",
    "        self.bb = bt.indicators.BollingerBands(self.data.close, period=self.params.period, devfactor=self.params.devfactor)\n",
    "        self.buy_signals = 0\n",
    "        self.sell_signals = 0\n",
    "\n",
    "    def next(self):\n",
    "        if self.data.close < self.bb.bot and not self.position:\n",
    "            self.buy()\n",
    "            self.buy_signals += 1\n",
    "        elif self.data.close > self.bb.top and self.position:\n",
    "            self.sell()\n",
    "            self.sell_signals += 1"
   ],
   "id": "f17ed8963bebf96c",
   "outputs": [],
   "execution_count": null
  },
  {
   "metadata": {},
   "cell_type": "markdown",
   "source": "### Momentum\n",
   "id": "ea4d5201d8b31b1f"
  },
  {
   "metadata": {},
   "cell_type": "code",
   "source": [
    "class MomentumStrategy(bt.Strategy):\n",
    "    params = ((\"period\", 12),)\n",
    "\n",
    "    def __init__(self):\n",
    "        self.momentum = bt.indicators.Momentum(self.data.close, period=self.params.period)\n",
    "        self.buy_signals = 0\n",
    "        self.sell_signals = 0\n",
    "\n",
    "    def next(self):\n",
    "        if self.momentum > 1.0 and not self.position:\n",
    "            self.buy()\n",
    "            self.buy_signals += 1\n",
    "        elif self.momentum < 1.0 and self.position:\n",
    "            self.sell()\n",
    "            self.sell_signals += 1"
   ],
   "id": "f131e4efd9a8b63a",
   "outputs": [],
   "execution_count": null
  },
  {
   "metadata": {},
   "cell_type": "markdown",
   "source": "### Price Rate-of-Change (ROC)\n",
   "id": "8688a4d15bd97765"
  },
  {
   "metadata": {},
   "cell_type": "code",
   "source": [
    "class RoCStrategy(bt.Strategy):\n",
    "    params = ((\"period\", 12),)\n",
    "\n",
    "    def __init__(self):\n",
    "        self.roc = bt.indicators.RateOfChange(self.data.close, period=self.params.period)\n",
    "        self.buy_signals = 0\n",
    "        self.sell_signals = 0\n",
    "\n",
    "    def next(self):\n",
    "        if self.roc > 0 and not self.position:\n",
    "            self.buy()\n",
    "            self.buy_signals += 1\n",
    "        elif self.roc < 0 and self.position:\n",
    "            self.sell()\n",
    "            self.sell_signals += 1"
   ],
   "id": "9ba77356e1fff82",
   "outputs": [],
   "execution_count": null
  },
  {
   "metadata": {},
   "cell_type": "markdown",
   "source": [
    "# Durchführung der Tests\n",
    "## Definition der Parameter\n",
    "**etfs:** Ein Dictionary, das die zu testenden ETFs definiert. Die Schlüssel sind die Namen der ETFs, die in den Tests verwendet werden, und die Werte sind die entsprechenden Symbole, die z. B. für Abfragen von Marktdaten genutzt werden können.\n",
    "\n",
    "**start_date:** Das Startdatum der Testperiode in Form eines Strings.\n",
    "\n",
    "**end_date:** Das Enddatum der Testperiode, ebenfalls als String angegeben. Es wird dynamisch auf das heutige Datum gesetzt: datetime.today().strftime(\"%Y-%m-%d\"), was sicherstellt, dass Tests bis zum aktuellen Tag durchgeführt werden.\n",
    "\n",
    "**seed_capital:** Das Startkapital, mit dem jede Strategie arbeitet, angegeben als ein numerischer Wert.\n",
    "\n",
    "**commission:** Die Handelsprovision (Gebühren), angegeben als Prozentsatz in Dezimalform.\n"
   ],
   "id": "6fe6fd478946088"
  },
  {
   "metadata": {},
   "cell_type": "code",
   "source": [
    "# Parameter\n",
    "etfs = {\n",
    "    \"SMI ETF\": \"CSSMI.SW\",\n",
    "    \"DAX ETF\": \"EXS1.DE\",\n",
    "    \"MSCI World Information Technology ETF\": \"TNOW.MI\",\n",
    "    \"ZKB Gold ETF\": \"ZGLD.SW\",\n",
    "}\n",
    "start_date = \"2023-09-30\"\n",
    "end_date = \"2024-09-30\"\n",
    "seed_capital = 100000\n",
    "commission = 0.001\n",
    "\n",
    "# Strategien definieren\n",
    "strategies = [\n",
    "    (SmaStrategy, \"SMA\"),\n",
    "    (LwmaStrategy, \"LWMA\"),\n",
    "    (EwmaStrategy, \"EWMA\"),\n",
    "    (MacdStrategy, \"MACD\"),\n",
    "    (RsiStrategy, \"RSI\"),\n",
    "    (BollingerBandsStrategy, \"Bollinger Bands\"),\n",
    "    (MomentumStrategy, \"Momentum\"),\n",
    "    (RoCStrategy, \"Rate of Change\"),\n",
    "]"
   ],
   "id": "24e99dcdebde50f9",
   "outputs": [],
   "execution_count": null
  },
  {
   "metadata": {},
   "cell_type": "markdown",
   "source": "## Ausführung der Berechnungen",
   "id": "f4cdf24e03abdd80"
  },
  {
   "metadata": {},
   "cell_type": "code",
   "source": [
    "# Ergebnisse anzeigen\n",
    "earnings = []\n",
    "for name, ticker in etfs.items():\n",
    "    data = fetch_etf_data(ticker, start_date, end_date)\n",
    "    data.index = data.index.tz_localize(None)\n",
    "    etf_earnings = backtest_and_collect(data, strategies, seed_capital, commission)\n",
    "    for result in etf_earnings:\n",
    "        result[\"ETF\"] = name\n",
    "    earnings.extend(etf_earnings)\n",
    "\n",
    "# DataFrame erstellen\n",
    "earnings_df = pd.DataFrame(earnings)\n",
    "\n",
    "# Spalten sortieren\n",
    "earnings_df = earnings_df[[\"ETF\", \"Strategy\", \"Earnings\", \"Seed Capital\", \"Profit\", \"Profit_Percent\", \"Buy Signals\", \"Sell Signals\", \"Cerebro\"]]\n",
    "\n",
    "# Zahlen runden\n",
    "earnings_df[[\"Earnings\", \"Profit\", \"Profit_Percent\"]] = earnings_df[[\"Earnings\", \"Profit\", \"Profit_Percent\"]].round(2)\n",
    "\n",
    "# Nach Strategie sortieren\n",
    "earnings_df = earnings_df.sort_values(by=[\"Strategy\", \"ETF\"]).reset_index(drop=True)\n",
    "\n",
    "# DataFrame anzeigen\n",
    "print(earnings_df)"
   ],
   "id": "b6b9e0239ddcdd15",
   "outputs": [],
   "execution_count": null
  },
  {
   "metadata": {},
   "cell_type": "code",
   "source": [
    "# Tabelle darstellen\n",
    "display_table_with_matplotlib(earnings_df)\n"
   ],
   "id": "4ff1ba6ab29c4717",
   "outputs": [],
   "execution_count": null
  },
  {
   "metadata": {},
   "cell_type": "markdown",
   "source": "",
   "id": "873df9190746c9ed"
  },
  {
   "metadata": {},
   "cell_type": "code",
   "source": [
    "# DataFrame als CSV exportieren\n",
    "file_path = \"earnings_report.csv\"  # Pfad und Name der Datei\n",
    "earnings_df.to_csv(file_path, index=False)\n",
    "\n",
    "print(f\"Die Datei wurde als {file_path} gespeichert.\")"
   ],
   "id": "5c2f7c775fb354c8",
   "outputs": [],
   "execution_count": null
  }
 ],
 "metadata": {
  "kernelspec": {
   "display_name": "Python 3",
   "language": "python",
   "name": "python3"
  },
  "language_info": {
   "codemirror_mode": {
    "name": "ipython",
    "version": 2
   },
   "file_extension": ".py",
   "mimetype": "text/x-python",
   "name": "python",
   "nbconvert_exporter": "python",
   "pygments_lexer": "ipython2",
   "version": "2.7.6"
  }
 },
 "nbformat": 4,
 "nbformat_minor": 5
}
