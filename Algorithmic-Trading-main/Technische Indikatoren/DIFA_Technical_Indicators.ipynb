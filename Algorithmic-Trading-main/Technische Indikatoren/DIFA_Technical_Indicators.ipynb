{
 "nbformat": 4,
 "nbformat_minor": 0,
 "metadata": {
  "colab": {
   "provenance": [],
   "toc_visible": true,
   "include_colab_link": true
  },
  "kernelspec": {
   "name": "python3",
   "display_name": "Python 3 (ipykernel)",
   "language": "python"
  },
  "language_info": {
   "name": "python"
  }
 },
 "cells": [
  {
   "cell_type": "markdown",
   "source": [
    "# Nötige Libraries installieren\n",
    "yfinance wird zwingend Version 0.0.43 benötigt, da seit dem Projektstart viele Änderungen an der Library stattgefunden haben und der Code mit neueren Versionen nicht mehr funktioniert."
   ],
   "metadata": {
    "id": "_CpWIcToD3AI"
   }
  },
  {
   "cell_type": "code",
   "metadata": {
    "id": "C7ymAMkzBNGw"
   },
   "source": "#pip install yfinance==0.2.43",
   "outputs": [],
   "execution_count": null
  },
  {
   "metadata": {},
   "cell_type": "markdown",
   "source": "# Libraries importieren"
  },
  {
   "cell_type": "code",
   "source": [
    "import yfinance as yf #\n",
    "import pandas as pd\n",
    "import numpy as np\n",
    "import matplotlib.pyplot as plt\n",
    "import math\n",
    "from datetime import datetime\n",
    "import seaborn as sns"
   ],
   "metadata": {
    "id": "ghGyowWF6wFL"
   },
   "outputs": [],
   "execution_count": null
  },
  {
   "cell_type": "markdown",
   "source": [
    "# Aufbereiten der Daten"
   ],
   "metadata": {
    "id": "BUH9eYbaD6k-"
   }
  },
  {
   "metadata": {
    "outputId": "ad610086-7243-4111-dc2a-3b94cd29d01a",
    "colab": {
     "base_uri": "https://localhost:8080/"
    },
    "id": "NzZtZLuIIkGX"
   },
   "cell_type": "code",
   "source": [
    "# Liste der Tickersymbole der ETFs, die die großen europäischen Indizes abbilden\n",
    "etfs = {\n",
    "    \"SMI ETF\": \"CSSMI.SW\",\n",
    "    \"DAX ETF\": \"EXS1.DE\",\n",
    "    \"MSCI World Information Technology ETF\": \"TNOW.MI\",\n",
    "    \"ZKB Gold ETF\": \"ZGLD.SW\",\n",
    "}\n",
    "\n",
    "# Zeitperiode (letzte 10 Jahre)\n",
    "start_date = \"2014-09-30\"\n",
    "end_date = \"2024-09-30\"\n",
    "\n",
    "# Hier werden die spezifischen Datenkategorien ausgewählt, in diesem Falle der Schlusskurs\n",
    "data_categories = ['Adj Close']\n",
    "\n",
    "# Daten abrufen und spezifische Kategorien auswählen\n",
    "data = {}\n",
    "for name, ticker in etfs.items():\n",
    "    index_data = yf.download(ticker, start=start_date, end=end_date)\n",
    "    data[name] = index_data[data_categories]\n",
    "\n",
    "# Die abgerufenen Daten in ein DataFrame packen\n",
    "index_data_etfs = pd.DataFrame({name: data[name]['Adj Close'] for name in etfs})\n",
    "\n",
    "# Leere Daten im Frame auffüllen\n",
    "index_data_etfs = index_data_etfs.interpolate()\n",
    "\n",
    "# Performance der ETFs berechnen (prozentuale Veränderung über 10 Jahre)\n",
    "performance = (index_data_etfs.iloc[-1] / index_data_etfs.iloc[0] - 1) * 100\n",
    "print(\"Performance der ETFs über die definierte Zeitdauer Jahre:\")\n",
    "print(performance)"
   ],
   "outputs": [],
   "execution_count": null
  },
  {
   "cell_type": "markdown",
   "source": [
    "# Aufbereiten der Daten mit vorgeschlagenen ETFs"
   ],
   "metadata": {
    "id": "97_aA2r0I4ua"
   }
  },
  {
   "metadata": {
    "id": "dHABD6lb9IeY",
    "outputId": "4ddf1277-70ab-4c5f-acdd-bb2af2b1331b",
    "colab": {
     "base_uri": "https://localhost:8080/",
     "height": 538
    }
   },
   "cell_type": "code",
   "source": [
    "# Plot der ETF-Performance über die letzten 10 Jahre\n",
    "index_data_etfs.plot(figsize=(12, 8), title='Performance der gewählten ETF Indizes (2014 - 2024)')\n",
    "plt.xlabel(\"Datum\")\n",
    "plt.ylabel(\"ETF Kurs (Adjusted Close)\")\n",
    "plt.legend(loc=\"upper left\")\n",
    "plt.grid(True)\n",
    "plt.show()"
   ],
   "outputs": [],
   "execution_count": null
  },
  {
   "metadata": {
    "id": "RcU9fAE5CFfE",
    "outputId": "a7c98bf4-09b0-4e55-c2b9-543ab7543fc7",
    "colab": {
     "base_uri": "https://localhost:8080/"
    }
   },
   "cell_type": "code",
   "source": [
    "# Schleife durch alle ETFs und zeige die ersten 5 Zeilen für jeden ETF an\n",
    "for name in etfs:\n",
    "    print(f\"\\n{name} - Erste 5 Zeilen:\")\n",
    "    print(index_data_etfs[name].head())"
   ],
   "outputs": [],
   "execution_count": null
  },
  {
   "metadata": {
    "id": "vhZIAfUp9IeZ"
   },
   "cell_type": "markdown",
   "source": [
    "# Simple Moving Averages"
   ]
  },
  {
   "metadata": {
    "id": "zVtGJPJY9IeZ",
    "outputId": "479f1469-ce16-4f16-8087-78240ce6db14",
    "colab": {
     "base_uri": "https://localhost:8080/",
     "height": 831
    }
   },
   "cell_type": "code",
   "source": [
    "# Berechnung der Simple Moving Averages für 10, 50 und 200 Tage\n",
    "sma_10 = index_data_etfs.rolling(window=10, min_periods=1).mean()\n",
    "sma_50 = index_data_etfs.rolling(window=50, min_periods=1).mean()\n",
    "sma_200 = index_data_etfs.rolling(window=200, min_periods=1).mean()\n",
    "\n",
    "# Anzahl der ETFs und die Aufteilung auf zwei Reihen berechnen\n",
    "num_etfs = len(etfs)\n",
    "rows = math.ceil(num_etfs / 2)\n",
    "cols = 2\n",
    "\n",
    "# Subplots erstellen\n",
    "fig, axes = plt.subplots(rows, cols, figsize=(12, 4 * rows))\n",
    "\n",
    "# Falls es eine ungerade Anzahl an ETFs gibt, kann eine leere Achse erscheinen. Diese verstecken wir dann später.\n",
    "axes = axes.flatten()\n",
    "\n",
    "# Plots in den Subplots erzeugen\n",
    "for idx, name in enumerate(etfs):\n",
    "    axes[idx].plot(index_data_etfs[name], label=f\"{name} (Adj Close)\", alpha=0.6)\n",
    "    axes[idx].plot(sma_10[name], label=\"10-Tage SMA\", linestyle='--')\n",
    "    axes[idx].plot(sma_50[name], label=\"50-Tage SMA\", linestyle='--')\n",
    "    axes[idx].plot(sma_200[name], label=\"200-Tage SMA\", linestyle='--')\n",
    "    axes[idx].set_title(f\"{name} mit SMAs (10, 50, 200 Tage)\")\n",
    "    axes[idx].set_xlabel(\"Datum\")\n",
    "    axes[idx].set_ylabel(\"Preis (Adjusted Close)\")\n",
    "    axes[idx].legend(loc=\"upper left\")\n",
    "    axes[idx].grid(True)\n",
    "\n",
    "# Falls es leere Subplots gibt, diese verstecken\n",
    "for i in range(idx + 1, len(axes)):\n",
    "    fig.delaxes(axes[i])\n",
    "\n",
    "plt.tight_layout()\n",
    "plt.show()\n",
    "\n",
    "# Zusammenfassen der SMAs in einem DataFrame für den Export\n",
    "sma_table = pd.concat([index_data_etfs, sma_10, sma_50, sma_200], axis=1,\n",
    "                      keys=['Adjusted Close', 'SMA_10', 'SMA_50', 'SMA_200'])"
   ],
   "outputs": [],
   "execution_count": null
  },
  {
   "cell_type": "markdown",
   "source": [
    "# Linear Weighted Moving Average"
   ],
   "metadata": {
    "id": "wz-mnLA05AvD"
   }
  },
  {
   "cell_type": "code",
   "source": [
    "def lwma(data, window_size):\n",
    "    \"\"\"\n",
    "    Berechnet den Linear Weighted Moving Average (LWMA) für eine gegebene Datenreihe und Fenstergröße.\n",
    "\n",
    "    :param data: Pandas Series oder Liste\n",
    "    :param window_size: Die Größe des Fensters für die Berechnung des LWMA\n",
    "    :return: Pandas Series mit den LWMA-Werten\n",
    "    \"\"\"\n",
    "    weights = np.arange(1, window_size + 1)\n",
    "    lwma = data.rolling(window=window_size, min_periods=1).apply(\n",
    "        lambda prices: np.dot(prices, weights[-len(prices):]) / weights[-len(prices):].sum(),\n",
    "        raw=True\n",
    "    )\n",
    "    return lwma\n",
    "\n",
    "# Berechnung der Linear Weighted Moving Averages für 10, 50 und 200 Tage\n",
    "lwma_10 = lwma(index_data_etfs, 10)\n",
    "lwma_50 = lwma(index_data_etfs, 50)\n",
    "lwma_200 = lwma(index_data_etfs, 200)\n",
    "\n",
    "# Anzahl der ETFs und die Aufteilung auf zwei Reihen berechnen\n",
    "num_etfs = len(etfs)\n",
    "rows = math.ceil(num_etfs / 2)\n",
    "cols = 2\n",
    "\n",
    "# Subplots erstellen\n",
    "fig, axes = plt.subplots(rows, cols, figsize=(12, 4 * rows))\n",
    "\n",
    "# Falls es eine ungerade Anzahl an ETFs gibt, kann eine leere Achse erscheinen. Diese verstecken wir dann später.\n",
    "axes = axes.flatten()\n",
    "\n",
    "# Plots in den Subplots erzeugen\n",
    "for idx, name in enumerate(etfs):\n",
    "    axes[idx].plot(index_data_etfs[name], label=f\"{name} (Adj Close)\", alpha=0.6)\n",
    "    axes[idx].plot(lwma_10[name], label=\"10-Tage LWMA\", linestyle='--')\n",
    "    axes[idx].plot(lwma_50[name], label=\"50-Tage LWMA\", linestyle='--')\n",
    "    axes[idx].plot(lwma_200[name], label=\"200-Tage LWMA\", linestyle='--')\n",
    "    axes[idx].set_title(f\"{name} mit LWMAs (10, 50, 200 Tage)\")\n",
    "    axes[idx].set_xlabel(\"Datum\")\n",
    "    axes[idx].set_ylabel(\"Preis (Adjusted Close)\")\n",
    "    axes[idx].legend(loc=\"upper left\")\n",
    "    axes[idx].grid(True)\n",
    "\n",
    "# Falls es leere Subplots gibt, diese verstecken\n",
    "for i in range(idx + 1, len(axes)):\n",
    "    fig.delaxes(axes[i])\n",
    "\n",
    "plt.tight_layout()\n",
    "plt.show()\n",
    "\n",
    "# Zusammenfassen der LWMAs in einem DataFrame\n",
    "lwma_table = pd.concat([lwma_10, lwma_50, lwma_200], axis=1, keys=['LWMA_10', 'LWMA_50', 'LWMA_200'])"
   ],
   "metadata": {
    "colab": {
     "base_uri": "https://localhost:8080/",
     "height": 1000
    },
    "id": "5XTGnwJr5BqZ",
    "outputId": "b668b773-0bc9-4e9e-8e98-b746dcd5b73e"
   },
   "outputs": [],
   "execution_count": null
  },
  {
   "cell_type": "markdown",
   "source": [
    "# Exponential Weighted Moving Averaged"
   ],
   "metadata": {
    "id": "nnaqCwUOCgdj"
   }
  },
  {
   "metadata": {
    "colab": {
     "base_uri": "https://localhost:8080/",
     "height": 1000
    },
    "id": "DfV9u6o-Cgo1",
    "outputId": "cbb50d7f-3929-4edb-c061-72eb3670abba"
   },
   "cell_type": "code",
   "source": [
    "# Berechnung der Exponential Weighted Moving Averages für 10, 50 und 200 Tage\n",
    "ewma_10 = index_data_etfs.ewm(span=10, adjust=False).mean()\n",
    "ewma_50 = index_data_etfs.ewm(span=50, adjust=False).mean()\n",
    "ewma_200 = index_data_etfs.ewm(span=200, adjust=False).mean()\n",
    "\n",
    "# Anzahl der ETFs und die Aufteilung auf zwei Reihen berechnen\n",
    "num_etfs = len(etfs)\n",
    "rows = math.ceil(num_etfs / 2)\n",
    "cols = 2\n",
    "\n",
    "# Subplots erstellen\n",
    "fig, axes = plt.subplots(rows, cols, figsize=(12, 4 * rows))\n",
    "\n",
    "# Falls es eine ungerade Anzahl an ETFs gibt, kann eine leere Achse erscheinen. Diese verstecken wir dann später.\n",
    "axes = axes.flatten()\n",
    "\n",
    "# Plots in den Subplots erzeugen\n",
    "for idx, name in enumerate(etfs):\n",
    "    axes[idx].plot(index_data_etfs[name], label=f\"{name} (Adj Close)\", alpha=0.6)\n",
    "    axes[idx].plot(ewma_10[name], label=\"10-Tage EWMA\", linestyle='--')\n",
    "    axes[idx].plot(ewma_50[name], label=\"50-Tage EWMA\", linestyle='--')\n",
    "    axes[idx].plot(ewma_200[name], label=\"200-Tage EWMA\", linestyle='--')\n",
    "    axes[idx].set_title(f\"{name} mit EWMAs (10, 50, 200 Tage)\")\n",
    "    axes[idx].set_xlabel(\"Datum\")\n",
    "    axes[idx].set_ylabel(\"Preis (Adjusted Close)\")\n",
    "    axes[idx].legend(loc=\"upper left\")\n",
    "    axes[idx].grid(True)\n",
    "\n",
    "# Falls es leere Subplots gibt, diese verstecken\n",
    "for i in range(idx + 1, len(axes)):\n",
    "    fig.delaxes(axes[i])\n",
    "\n",
    "plt.tight_layout()\n",
    "plt.show()\n",
    "\n",
    "# Zusammenfassen der EWMAs in einem DataFrame\n",
    "ewma_table = pd.concat([ewma_10, ewma_50, ewma_200], axis=1, keys=['EWMA_10', 'EWMA_50', 'EWMA_200'])"
   ],
   "outputs": [],
   "execution_count": null
  },
  {
   "metadata": {
    "id": "myOv21Bd9Ieb"
   },
   "cell_type": "markdown",
   "source": [
    "# Moving Average Crossover"
   ]
  },
  {
   "metadata": {
    "id": "fiL5xsk99Ieb",
    "outputId": "7a1ff3a4-9c42-41b3-b4bc-9983486784b4",
    "colab": {
     "base_uri": "https://localhost:8080/",
     "height": 583
    }
   },
   "cell_type": "code",
   "source": [
    "# Zeitraum definieren\n",
    "start_date = '2022-01-01'\n",
    "end_date = '2023-01-01'\n",
    "\n",
    "# Berechnung der Simple Moving Averages für 10 und 20 Tage\n",
    "sma_10_period = index_data_etfs[\"SMI ETF\"].loc[start_date:end_date].rolling(window=10, min_periods=1).mean()\n",
    "sma_20_period = index_data_etfs[\"SMI ETF\"].loc[start_date:end_date].rolling(window=20, min_periods=1).mean()\n",
    "\n",
    "\n",
    "# Berechnung der Schnittpunkte: Unterschiede zwischen SMA10 und SMA20\n",
    "difference = sma_10_period - sma_20_period\n",
    "\n",
    "# Schnittpunkte finden: Wenn der Unterschied die Richtung wechselt (Vorzeichenänderung)\n",
    "crossing_points = np.where(np.diff(np.sign(difference)))[0]\n",
    "\n",
    "plt.figure(figsize=(12, 8))\n",
    "plt.plot(index_data_etfs[\"SMI ETF\"].loc[start_date:end_date], label=\"SMI ETF (Adj Close)\", alpha=0.6)\n",
    "plt.plot(sma_10_period, label=\"10-Tage SMI ETF\", linestyle='--')\n",
    "plt.plot(sma_20_period, label=\"20-Tage SMI ETF\", linestyle='--')\n",
    "\n",
    "# Kreise an den Schnittpunkten zeichnen\n",
    "for idx in crossing_points:\n",
    "    # Datum vor und nach dem Schnittpunkt bestimmen\n",
    "    date_before = sma_10_period.index[idx]\n",
    "    date_after = sma_10_period.index[idx + 1]\n",
    "\n",
    "    # Werte vor und nach dem Schnittpunkt bestimmen\n",
    "    value_before = sma_10_period.iloc[idx]\n",
    "    value_after = sma_10_period.iloc[idx + 1]\n",
    "\n",
    "    # Interpolation der Schnittstelle zwischen den beiden Punkten\n",
    "    diff_before = difference.iloc[idx]\n",
    "    diff_after = difference.iloc[idx + 1]\n",
    "\n",
    "    # Berechne den genauen Schnittpunkt durch lineare Interpolation\n",
    "    crossing_date = date_before + (date_after - date_before) * (0 - diff_before) / (diff_after - diff_before)\n",
    "    crossing_value = value_before + (value_after - value_before) * (0 - diff_before) / (diff_after - diff_before)\n",
    "\n",
    "    # Kreise an den interpolierten Schnittpunkten zeichnen\n",
    "    plt.scatter(crossing_date, crossing_value, color='none', s=100, edgecolor='red', zorder=5, label=\"Schnittpunkt\" if idx == crossing_points[0] else \"\")\n",
    "\n",
    "plt.title(\"SMI ETF mit SMAs (10 und 20 Tage)\")\n",
    "plt.xlabel(\"Datum\")\n",
    "plt.ylabel(\"Preis (Adjusted Close)\")\n",
    "plt.legend(loc=\"upper left\")\n",
    "plt.grid(True)\n",
    "plt.show()"
   ],
   "outputs": [],
   "execution_count": null
  },
  {
   "metadata": {},
   "cell_type": "markdown",
   "source": "# Moving Average Crossover Divergence"
  },
  {
   "metadata": {},
   "cell_type": "code",
   "source": [
    "# Zeitraum definieren\n",
    "start_date = '2023-01-01'\n",
    "end_date = '2024-01-01'\n",
    "\n",
    "# Berechnung des MACD\n",
    "short_window = 12\n",
    "long_window = 26\n",
    "signal_window = 9\n",
    "\n",
    "# Exponentielle gleitende Durchschnitte berechnen\n",
    "ema_12 = index_data_etfs[\"SMI ETF\"].loc[start_date:end_date].ewm(span=short_window, adjust=False).mean()\n",
    "ema_26 = index_data_etfs[\"SMI ETF\"].loc[start_date:end_date].ewm(span=long_window, adjust=False).mean()\n",
    "\n",
    "# MACD Line berechnen\n",
    "macd_line = ema_12 - ema_26\n",
    "\n",
    "# Signal Line berechnen\n",
    "signal_line = macd_line.ewm(span=signal_window, adjust=False).mean()\n",
    "\n",
    "# MACD Histogram berechnen\n",
    "macd_histogram = macd_line - signal_line\n",
    "\n",
    "# Plot erstellen\n",
    "plt.figure(figsize=(12, 8))\n",
    "\n",
    "# Preisdiagramm (oben)\n",
    "plt.subplot(2, 1, 1)  # 2 Zeilen, 1 Spalte, 1. Position\n",
    "plt.plot(index_data_etfs[\"SMI ETF\"].loc[start_date:end_date], label='SMI ETF', color='black', alpha=0.6)\n",
    "plt.title('SMI ETF Moving Average Crossover Divergence')\n",
    "plt.ylabel('Price')\n",
    "plt.legend(loc='upper left')\n",
    "plt.grid(True)\n",
    "\n",
    "# MACD-Diagramm (unten)\n",
    "plt.subplot(2, 1, 2)  # 2 Zeilen, 1 Spalte, 2. Position\n",
    "plt.plot(macd_line, label='MACD Line', color='blue', linewidth=1.5)\n",
    "plt.plot(signal_line, label='Signal Line', color='red', linewidth=1.5, linestyle='--')\n",
    "\n",
    "# Histogram als Balkendiagramm\n",
    "plt.bar(macd_histogram.index, macd_histogram, label='MACD Histogram', color='gray', alpha=0.5)\n",
    "\n",
    "# Titel und Legenden\n",
    "plt.title('MACD Indicator')\n",
    "plt.xlabel('Date')\n",
    "plt.ylabel('MACD')\n",
    "plt.legend(loc='upper left')\n",
    "plt.grid(True)\n",
    "\n",
    "# Layout-Anpassungen\n",
    "plt.tight_layout()\n",
    "plt.show()\n"
   ],
   "outputs": [],
   "execution_count": null
  },
  {
   "metadata": {},
   "cell_type": "markdown",
   "source": "Der obere Graph zeigt den Kursverlauf vom SMI an. Im unteren Teil ist die MACD Linie sowie die Singallinie sichtbar. Liegt der MACD-Wert über null, liegt der kurzfristige gleitende Durchschnitt über dem langfristigen, was einen Aufwärtstrend signalisiert. Das Gegenteil ist der Fall, wenn der Wert unter null liegt. Kreuzen sich MACD- und Signallinie, kann das ein Kauf- resp. Verkaufssignal sein. Das Histogramm zeigt zudem an, ob sich der Trend beschleunigt. Ein grösseres Histogramm deutet darauf hin, dass der Trend stärker wird und umgekehrt."
  },
  {
   "metadata": {
    "id": "ktWpJ3g39Ieb"
   },
   "cell_type": "markdown",
   "source": [
    "# Bollinger Bands"
   ]
  },
  {
   "metadata": {
    "id": "9Y_xtMYo9Ieb",
    "outputId": "f9206c21-8bb2-4190-88d1-01a8902dcdeb",
    "colab": {
     "base_uri": "https://localhost:8080/",
     "height": 1000
    }
   },
   "cell_type": "code",
   "source": [
    "# Berechnung der Bollinger Bands (20 Tage) für die interpolierten Daten\n",
    "bb_window = 20\n",
    "num_etfs = len(index_data_etfs.columns)\n",
    "rows = math.ceil(num_etfs / 2)  # Anzahl der Zeilen, basierend auf 2 Spalten\n",
    "\n",
    "fig, axes = plt.subplots(rows, 2, figsize=(15, 5 * rows))  # Raster mit 2 Kolonnen\n",
    "axes = axes.flatten()  # Flachstellen, um einfacher darauf zuzugreifen\n",
    "\n",
    "for i, etf in enumerate(index_data_etfs.columns):\n",
    "    # 20-Tage-SMA\n",
    "    sma = index_data_etfs[etf].rolling(window=bb_window).mean()\n",
    "\n",
    "    # Standardabweichung (20 Tage)\n",
    "    std = index_data_etfs[etf].rolling(window=bb_window).std()\n",
    "\n",
    "    # Obere und untere Bollinger Bänder\n",
    "    upper_band = sma + (std * 2)\n",
    "    lower_band = sma - (std * 2)\n",
    "\n",
    "    # Plot des ETFs mit den Bollinger Bändern\n",
    "    ax = axes[i]\n",
    "    ax.plot(index_data_etfs[etf], label=f'{etf} Preis', color='blue', alpha=0.5)\n",
    "    ax.plot(sma, label='20-Tage SMA', color='orange')\n",
    "    ax.plot(upper_band, label='Obere Bollinger Band', color='green')\n",
    "    ax.plot(lower_band, label='Untere Bollinger Band', color='red')\n",
    "    ax.fill_between(index_data_etfs.index, lower_band, upper_band, color='lightgray', alpha=0.3)\n",
    "    ax.set_title(f'Bollinger Bands für {etf}')\n",
    "    ax.set_xlabel('Datum')\n",
    "    ax.set_ylabel('Preis')\n",
    "    ax.legend(loc='upper left')\n",
    "    ax.grid(True)\n",
    "\n",
    "# Entfernen ungenutzter Subplots, falls ETFs < Anzahl Subplots\n",
    "for j in range(i + 1, len(axes)):\n",
    "    fig.delaxes(axes[j])\n",
    "\n",
    "plt.tight_layout()\n",
    "plt.show()\n"
   ],
   "outputs": [],
   "execution_count": null
  },
  {
   "cell_type": "markdown",
   "source": [
    "# Momentum"
   ],
   "metadata": {
    "id": "kwyRKm5iE4cn"
   }
  },
  {
   "cell_type": "code",
   "source": [
    "# Momentum-Berechnung\n",
    "momentum_window = 12\n",
    "momentum = index_data_etfs.diff(periods=momentum_window)\n",
    "\n",
    "# Anzahl der ETFs und Zeilen im Raster\n",
    "num_etfs = len(index_data_etfs.columns)\n",
    "rows = math.ceil(num_etfs / 2)  # Anzahl der Zeilen, basierend auf 2 Spalten\n",
    "\n",
    "# Raster mit 2 Kolonnen erstellen\n",
    "fig, axes = plt.subplots(rows, 2, figsize=(15, 5 * rows))  # Größe des Rasters\n",
    "axes = axes.flatten()  # Flachstellen für einfacheren Zugriff\n",
    "\n",
    "for i, etf in enumerate(index_data_etfs.columns):\n",
    "    ax = axes[i]\n",
    "    ax.plot(momentum[etf], label=f'{etf} Momentum ({momentum_window}-Tage)', color='purple')\n",
    "    ax.set_title(f'Momentum für {etf} ({momentum_window}-Tage)')\n",
    "    ax.set_xlabel('Datum')\n",
    "    ax.set_ylabel('Momentum')\n",
    "    ax.legend(loc='upper left')\n",
    "    ax.grid(True)\n",
    "\n",
    "# Entfernen ungenutzter Subplots, falls ETFs < Anzahl Subplots\n",
    "for j in range(i + 1, len(axes)):\n",
    "    fig.delaxes(axes[j])\n",
    "\n",
    "plt.tight_layout()  # Optimierung der Layouts\n",
    "plt.show()"
   ],
   "metadata": {
    "id": "-JPJ-E2qE6Vf",
    "outputId": "c5ae44e7-7ce7-47f1-cdd7-09d8a3e0ccad",
    "colab": {
     "base_uri": "https://localhost:8080/",
     "height": 1000
    }
   },
   "outputs": [],
   "execution_count": null
  },
  {
   "cell_type": "markdown",
   "source": [
    "# Price Rate-of-Change"
   ],
   "metadata": {
    "id": "KuAsgQDwGw9I"
   }
  },
  {
   "cell_type": "code",
   "source": [
    "# Zeitfenster für die Berechnung des ROC\n",
    "roc_short_window = 12  # Kurzfristig\n",
    "roc_long_window = 200  # Langfristig\n",
    "\n",
    "# Berechnung des ROC für alle ETFs (Kurzfristig und Langfristig)\n",
    "roc_short = ((index_data_etfs / index_data_etfs.shift(periods=roc_short_window)) - 1) * 100\n",
    "roc_long = ((index_data_etfs / index_data_etfs.shift(periods=roc_long_window)) - 1) * 100\n",
    "\n",
    "# Anzahl der ETFs und Zeilen im Raster\n",
    "num_etfs = len(index_data_etfs.columns)\n",
    "rows = math.ceil(num_etfs / 2)  # Anzahl der Zeilen, basierend auf 2 Spalten\n",
    "\n",
    "# Raster mit 2 Kolonnen erstellen\n",
    "fig, axes = plt.subplots(rows, 2, figsize=(15, 5 * rows))  # Größe des Rasters\n",
    "axes = axes.flatten()  # Flachstellen für einfacheren Zugriff\n",
    "\n",
    "for i, etf in enumerate(index_data_etfs.columns):\n",
    "    ax = axes[i]\n",
    "\n",
    "    # Plot ROC_short (12 Tage)\n",
    "    ax.plot(roc_short[etf], label=f'{etf} ROC_short ({roc_short_window}-Tage)', color='teal')\n",
    "\n",
    "    # Plot ROC_long (200 Tage)\n",
    "    ax.plot(roc_long[etf], label=f'{etf} ROC_long ({roc_long_window}-Tage)', color='orange')\n",
    "\n",
    "    ax.set_title(f'Price Rate of Change (ROC) für {etf}')\n",
    "    ax.set_xlabel('Datum')\n",
    "    ax.set_ylabel('ROC (%)')\n",
    "    ax.legend(loc='upper left')\n",
    "    ax.grid(True)\n",
    "\n",
    "# Entfernen ungenutzter Subplots, falls ETFs < Anzahl Subplots\n",
    "for j in range(i + 1, len(axes)):\n",
    "    fig.delaxes(axes[j])\n",
    "\n",
    "plt.tight_layout()  # Optimierung der Layouts\n",
    "plt.show()"
   ],
   "metadata": {
    "id": "S31cNbfgHxg_",
    "outputId": "e2faf925-b2b0-4f5a-cfb5-696c35d4427a",
    "colab": {
     "base_uri": "https://localhost:8080/",
     "height": 1000
    }
   },
   "outputs": [],
   "execution_count": null
  },
  {
   "cell_type": "markdown",
   "source": [
    "# Highest Highs und Lowest Lows pro Quartal"
   ],
   "metadata": {
    "id": "L3qyo5XlINDE"
   }
  },
  {
   "cell_type": "code",
   "source": [
    "# Berechnung der Highest Highs und Lowest Lows für jedes Quartal\n",
    "highest_highs = index_data_etfs.resample('QE').max()  # Höchste Preise pro Quartal\n",
    "lowest_lows = index_data_etfs.resample('QE').min()    # Niedrigste Preise pro Quartal\n",
    "\n",
    "# Anzahl der ETFs und Zeilen im Raster\n",
    "num_etfs = len(index_data_etfs.columns)\n",
    "rows = math.ceil(num_etfs / 2)  # Anzahl der Zeilen, basierend auf 2 Spalten\n",
    "\n",
    "# Raster mit 2 Kolonnen erstellen\n",
    "fig, axes = plt.subplots(rows, 2, figsize=(15, 5 * rows))  # Größe des Rasters\n",
    "axes = axes.flatten()  # Flachstellen für einfacheren Zugriff\n",
    "\n",
    "for i, etf in enumerate(index_data_etfs.columns):\n",
    "    ax = axes[i]\n",
    "\n",
    "    # Plot der Kursdaten\n",
    "    ax.plot(index_data_etfs[etf], label=f'{etf} Preis', color='blue', alpha=0.5)\n",
    "\n",
    "    # Plot der Highest Highs\n",
    "    ax.plot(highest_highs[etf], label=f'{etf} Highest Highs (Quartal)', color='green', linestyle='--')\n",
    "\n",
    "    # Plot der Lowest Lows\n",
    "    ax.plot(lowest_lows[etf], label=f'{etf} Lowest Lows (Quartal)', color='red', linestyle='--')\n",
    "\n",
    "    ax.set_title(f'Highest Highs und Lowest Lows für {etf} (Quartal)')\n",
    "    ax.set_xlabel('Datum')\n",
    "    ax.set_ylabel('Preis')\n",
    "    ax.legend(loc='upper left')\n",
    "    ax.grid(True)\n",
    "\n",
    "# Entfernen ungenutzter Subplots, falls ETFs < Anzahl Subplots\n",
    "for j in range(i + 1, len(axes)):\n",
    "    fig.delaxes(axes[j])\n",
    "\n",
    "plt.tight_layout()  # Optimierung der Layouts\n",
    "plt.show()\n"
   ],
   "metadata": {
    "id": "vuHRyAp4IQs8",
    "outputId": "5fda7b0b-5544-4aa1-c09c-94248744138b",
    "colab": {
     "base_uri": "https://localhost:8080/",
     "height": 1000
    }
   },
   "outputs": [],
   "execution_count": null
  }
 ]
}
